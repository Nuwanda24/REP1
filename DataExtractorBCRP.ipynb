{
  "nbformat": 4,
  "nbformat_minor": 0,
  "metadata": {
    "colab": {
      "provenance": [],
      "authorship_tag": "ABX9TyMBPDlIK/TIAG20kkszc0Wb",
      "include_colab_link": true
    },
    "kernelspec": {
      "name": "python3",
      "display_name": "Python 3"
    },
    "language_info": {
      "name": "python"
    }
  },
  "cells": [
    {
      "cell_type": "markdown",
      "metadata": {
        "id": "view-in-github",
        "colab_type": "text"
      },
      "source": [
        "<a href=\"https://colab.research.google.com/github/alt159/public_works/blob/main/DataExtractorBCRP.ipynb\" target=\"_parent\"><img src=\"https://colab.research.google.com/assets/colab-badge.svg\" alt=\"Open In Colab\"/></a>"
      ]
    },
    {
      "cell_type": "code",
      "execution_count": null,
      "metadata": {
        "id": "zkYh_rfdvEFW"
      },
      "outputs": [],
      "source": [
        "import requests\n",
        "import pandas as pd\n",
        "import re  # Importar el módulo de expresiones regulares\n",
        "\n",
        "# Definir los parámetros de la consulta\n",
        "url_base = \"https://estadisticas.bcrp.gob.pe/estadisticas/series/api\"\n",
        "codigo_serie = \"PN01728AM\"\n",
        "formato_salida = \"json\"\n",
        "periodo_inicial = \"2004-01\"\n",
        "periodo_final = \"2023-06\"\n",
        "idioma = \"es\"\n",
        "\n",
        "# Construir la URL completa\n",
        "url = f\"{url_base}/{codigo_serie}/{formato_salida}/{periodo_inicial}/{periodo_final}/{idioma}\"\n",
        "\n",
        "# Hacer la solicitud GET a la API\n",
        "response = requests.get(url)\n",
        "\n",
        "# Imprimir el código de estado y el tipo de contenido de la respuesta\n",
        "print(\"Código de Estado:\", response.status_code)\n",
        "print(\"Tipo de Contenido:\", response.headers.get('Content-Type'))\n",
        "\n",
        "# Verificar el tipo de contenido antes de decodificar como JSON\n",
        "if 'application/json' in response.headers.get('Content-Type', ''):\n",
        "    try:\n",
        "        # Intentar decodificar la respuesta como JSON y convertir a DataFrame\n",
        "        datos = response.json()\n",
        "        df = pd.DataFrame(datos)\n",
        "        print(\"Datos convertidos a DataFrame:\")\n",
        "        print(df)\n",
        "    except Exception as e:\n",
        "        print(\"Error al decodificar JSON:\", str(e))\n",
        "        print(\"Contenido de la Respuesta:\", response.text)\n",
        "else:\n",
        "    print(\"La respuesta no es un JSON.\")\n",
        "    print(\"Contenido de la Respuesta:\", response.text)\n",
        "\n",
        "    # Definir un patrón para extraer el \"name\" y \"values\" del contenido\n",
        "    pattern = re.compile(r'\"name\":\"([^\"]+)\",\\s*\"values\":\\[\"([^\"]+)\"\\]')\n",
        "\n",
        "    # Encontrar todas las coincidencias del patrón en el contenido\n",
        "    matches = pattern.findall(response.text)\n",
        "\n",
        "    # Preparar una lista para contener los datos\n",
        "    data = []\n",
        "\n",
        "    # Iterar sobre las coincidencias y añadir los datos extraídos a la lista\n",
        "    for name, value in matches:\n",
        "        try:\n",
        "            # Intentar convertir el valor a float y añadirlo a la lista de datos\n",
        "            data.append({\"name\": name, \"value\": float(value)})\n",
        "        except ValueError:\n",
        "            # Si la conversión falla, añadir el valor tal como está\n",
        "            data.append({\"name\": name, \"value\": value})\n",
        "\n",
        "    # Convertir la lista de diccionarios en un DataFrame\n",
        "    df_extraida = pd.DataFrame(data)\n",
        "\n",
        "    # Mostrar las primeras filas del DataFrame extraído\n",
        "    print(\"Datos extraídos convertidos a DataFrame:\")\n",
        "    print(df_extraida.head())\n"
      ]
    }
  ]
}